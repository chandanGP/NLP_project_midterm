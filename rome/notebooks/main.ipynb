{
 "cells": [
  {
   "cell_type": "markdown",
   "metadata": {},
   "source": [
    "# This is implimentation of \"Locating and Editing Factual Associations in GPT (ROME)\" \n",
    "by Kevin Meng\n",
    "David Bau,\n",
    "Alex Andonian,\n",
    "Yonatan Belinkov "
   ]
  },
  {
   "cell_type": "markdown",
   "metadata": {},
   "source": [
    "## to Running the Full Evaluation Suite execute following command"
   ]
  },
  {
   "cell_type": "code",
   "execution_count": null,
   "metadata": {},
   "outputs": [],
   "source": [
    "!python3 -m experiments.evaluate \\\n",
    "    --alg_name=ROME \\\n",
    "    --model_name=gpt2-xl \\\n",
    "    --hparams_fname=gpt2-xl.json"
   ]
  },
  {
   "cell_type": "markdown",
   "metadata": {},
   "source": [
    "* experiments/evaluate.py can be used to evaluate any method in baselines/,  \n",
    "avilable models are(to use in --model_name): gpt2-large, gpt2-medium, gpt2-xl and Eleuther_gpt-j,  \n",
    "* `EleutherAI/gpt-j-6B` requires slightly more than 24GB VRAM\n",
    "* `gpt2-xl` runs comfortably on 8GB VRAM  \n",
    "avilable algo are(--alg_name) : ROME, MEND, KN, KE, FT "
   ]
  },
  {
   "cell_type": "markdown",
   "metadata": {},
   "source": [
    "* Results from each run are stored at results/<method_name>/run_<run_id> in a below  format:  \n",
    "results/  \n",
    "|__ ROME/  \n",
    "&nbsp;&nbsp;&nbsp;&nbsp;|__ run_<run_id>/  \n",
    "&nbsp;&nbsp;&nbsp;&nbsp;&nbsp;&nbsp;&nbsp;&nbsp;|__ params.json  \n",
    "&nbsp;&nbsp;&nbsp;&nbsp;&nbsp;&nbsp;&nbsp;&nbsp;|__ case_0.json  \n",
    "&nbsp;&nbsp;&nbsp;&nbsp;&nbsp;&nbsp;&nbsp;&nbsp;|__ case_1.json  \n",
    "&nbsp;&nbsp;&nbsp;&nbsp;&nbsp;&nbsp;&nbsp;&nbsp;|__ ...  \n",
    "&nbsp;&nbsp;&nbsp;&nbsp;&nbsp;&nbsp;&nbsp;&nbsp;|__ case_10000.json  "
   ]
  },
  {
   "cell_type": "markdown",
   "metadata": {},
   "source": [
    "## To summarize the results, you can use experiments/summarize.py as below:"
   ]
  },
  {
   "cell_type": "code",
   "execution_count": null,
   "metadata": {},
   "outputs": [],
   "source": [
    "!python3 -m experiments.summarize --dir_name=ROME --runs=run_<run_id>"
   ]
  },
  {
   "cell_type": "markdown",
   "metadata": {},
   "source": [
    "## interactive experimentation with ROME and several other comparable baselines. \n",
    "The goal is to write new facts (e.g. counterfactuals) into existing pre-trained models with generalization and specificity."
   ]
  },
  {
   "cell_type": "code",
   "execution_count": 1,
   "metadata": {},
   "outputs": [],
   "source": [
    "%%bash\n",
    "!(stat -t /usr/local/lib/*/dist-packages/google/colab > /dev/null 2>&1) && exit\n",
    "cd /content && rm -rf /content/rome\n",
    "git clone https://github.com/kmeng01/rome rome > install.log 2>&1\n",
    "pip install -r /content/rome/scripts/colab_reqs/rome.txt >> install.log 2>&1\n",
    "pip install --upgrade google-cloud-storage >> install.log 2>&1"
   ]
  },
  {
   "cell_type": "code",
   "execution_count": 2,
   "metadata": {},
   "outputs": [],
   "source": [
    "IS_COLAB = False\n",
    "ALL_DEPS = False\n",
    "try:\n",
    "    import google.colab, torch, os\n",
    "\n",
    "    IS_COLAB = True\n",
    "    os.chdir(\"/content/rome\")\n",
    "    if not torch.cuda.is_available():\n",
    "        raise Exception(\"Change runtime type to include a GPU.\")\n",
    "except ModuleNotFoundError as _:\n",
    "    pass"
   ]
  },
  {
   "cell_type": "code",
   "execution_count": 3,
   "metadata": {},
   "outputs": [],
   "source": [
    "%load_ext autoreload\n",
    "%autoreload 2"
   ]
  },
  {
   "cell_type": "code",
   "execution_count": 23,
   "metadata": {},
   "outputs": [],
   "source": [
    "import torch\n",
    "from transformers import AutoModelForCausalLM, AutoTokenizer\n",
    "\n",
    "from util import nethook\n",
    "from util.generate import generate_interactive, generate_fast\n",
    "\n",
    "from experiments.py.edit_me import model_editing_me, stop_execution"
   ]
  },
  {
   "cell_type": "code",
   "execution_count": 5,
   "metadata": {},
   "outputs": [],
   "source": [
    "MODEL_NAME = \"gpt2-xl\" "
   ]
  },
  {
   "cell_type": "code",
   "execution_count": 6,
   "metadata": {},
   "outputs": [
    {
     "data": {
      "text/plain": [
       "GPT2Config {\n",
       "  \"_name_or_path\": \"gpt2-xl\",\n",
       "  \"activation_function\": \"gelu_new\",\n",
       "  \"architectures\": [\n",
       "    \"GPT2LMHeadModel\"\n",
       "  ],\n",
       "  \"attn_pdrop\": 0.1,\n",
       "  \"bos_token_id\": 50256,\n",
       "  \"embd_pdrop\": 0.1,\n",
       "  \"eos_token_id\": 50256,\n",
       "  \"initializer_range\": 0.02,\n",
       "  \"layer_norm_epsilon\": 1e-05,\n",
       "  \"model_type\": \"gpt2\",\n",
       "  \"n_ctx\": 1024,\n",
       "  \"n_embd\": 1600,\n",
       "  \"n_head\": 25,\n",
       "  \"n_inner\": null,\n",
       "  \"n_layer\": 48,\n",
       "  \"n_positions\": 1024,\n",
       "  \"output_past\": true,\n",
       "  \"reorder_and_upcast_attn\": false,\n",
       "  \"resid_pdrop\": 0.1,\n",
       "  \"scale_attn_by_inverse_layer_idx\": false,\n",
       "  \"scale_attn_weights\": true,\n",
       "  \"summary_activation\": null,\n",
       "  \"summary_first_dropout\": 0.1,\n",
       "  \"summary_proj_to_labels\": true,\n",
       "  \"summary_type\": \"cls_index\",\n",
       "  \"summary_use_proj\": true,\n",
       "  \"task_specific_params\": {\n",
       "    \"text-generation\": {\n",
       "      \"do_sample\": true,\n",
       "      \"max_length\": 50\n",
       "    }\n",
       "  },\n",
       "  \"transformers_version\": \"4.38.2\",\n",
       "  \"use_cache\": true,\n",
       "  \"vocab_size\": 50257\n",
       "}"
      ]
     },
     "execution_count": 6,
     "metadata": {},
     "output_type": "execute_result"
    }
   ],
   "source": [
    "model, tok = (\n",
    "    AutoModelForCausalLM.from_pretrained(MODEL_NAME, low_cpu_mem_usage=IS_COLAB).to(\n",
    "        \"cuda\"\n",
    "    ),\n",
    "    AutoTokenizer.from_pretrained(MODEL_NAME),\n",
    ")\n",
    "tok.pad_token = tok.eos_token\n",
    "model.config"
   ]
  },
  {
   "cell_type": "markdown",
   "metadata": {},
   "source": [
    "A requested rewrite can be specified using `request`. `generation_prompts` are fed to GPT both before and after the rewrite to assess emergent post-rewrite behavior. See the bottom of this notebook for more examples.\n"
   ]
  },
  {
   "cell_type": "code",
   "execution_count": 7,
   "metadata": {},
   "outputs": [],
   "source": [
    "request = [\n",
    "    {\n",
    "        \"prompt\": \"{} was the founder of\",\n",
    "        \"subject\": \"Steve Jobs\",\n",
    "        \"target_new\": {\"str\": \"Microsoft\"},\n",
    "    }\n",
    "]\n",
    "\n",
    "generation_prompts = [\n",
    "    \"My favorite Steve Jobs product is\",\n",
    "    \"Steve Jobs is most famous for creating\",\n",
    "    \"The greatest accomplishment of Steve Jobs was\",\n",
    "    \"Steve Jobs was responsible for\",\n",
    "    \"Steve Jobs worked for\",\n",
    "]"
   ]
  },
  {
   "cell_type": "markdown",
   "metadata": {},
   "source": [
    "This cell executes the model edit.\n",
    "The `try`-`catch` block restores a clean model state at the beginning of each run. `ALG_NAME` controls which algorithm is used. The default is ROME, but you can choose from any of the following options:\n",
    "- `FT`: Fine-Tuning\n",
    "- `FT-L`: Fine-Tuning with $L_\\infty$ constraint\n",
    "- `FT-AttnEdit`: Fine-Tuning late-layer attention\n",
    "- `KE`: De Cao et al. Knowledge Editor\n",
    "- `KE-CF`: KE trained on CounterFact\n",
    "- `MEND`: Mitchell et al. Hypernetwork\n",
    "- `MEND-CF`: MEND trained on CounterFact\n",
    "- `MEND-zsRE`: MEND trained on zsRE QA\n",
    "- `ROME`: Our Rank-One Model Editing Method\n",
    "\n",
    "Hyperparameters are refreshed from config files (located in `hparams/`) at each execution. To modify any parameter, edit and save the respective file. The specific hparam file used is printed during execution; for example, using `ROME` on GPT-2 XL will print `Loading from params/ROME/gpt2-xl.json`.\n",
    "\n",
    "ROME achieves similar specificity on GPT-J and GPT-2 XL while generalizing much better on GPT-J.\n"
   ]
  },
  {
   "cell_type": "code",
   "execution_count": 8,
   "metadata": {},
   "outputs": [],
   "source": [
    "ALG_NAME = \"ROME\""
   ]
  },
  {
   "cell_type": "code",
   "execution_count": 9,
   "metadata": {},
   "outputs": [
    {
     "name": "stdout",
     "output_type": "stream",
     "text": [
      "No model weights to restore: name 'orig_weights' is not defined\n",
      "\n",
      "#####################################\n",
      "#                                   #\n",
      "#  Retrieving ROME hyperparameters  #\n",
      "#                                   #\n",
      "#####################################\n",
      "Loading from hparams/ROME/gpt2-xl.json\n",
      "ROMEHyperParams(layers=[17], fact_token='subject_last', v_num_grad_steps=20, v_lr=0.5, v_loss_layer=47, v_weight_decay=0.5, clamp_norm_factor=4, kl_factor=0.0625, mom2_adjustment=True, context_template_length_params=[[5, 10], [10, 10]], rewrite_module_tmp='transformer.h.{}.mlp.c_proj', layer_module_tmp='transformer.h.{}', mlp_module_tmp='transformer.h.{}.mlp', attn_module_tmp='transformer.h.{}.attn', ln_f_module='transformer.ln_f', lm_head_module='transformer.wte', mom2_dataset='wikipedia', mom2_n_samples=100000, mom2_dtype='float32')\n",
      "\n",
      "################################\n",
      "#                              #\n",
      "#  Generating pre-update text  #\n",
      "#                              #\n",
      "################################\n",
      "[\"My favorite Steve Jobs product is the iPhone. It's an incredible piece of engineering that has transformed the world. I've been an iPhone user since the very beginning and have always been amazed by the quality of the hardware and the user experience. I think the iPhone is an amazing product and I think it's the single best smartphone on the market. But I'm also very interested in the people who make the products, and I've been fascinated with the people who make the products at\", 'Steve Jobs is most famous for creating the iPod, but in a recent interview, he revealed that one of the biggest challenges he faced was finding a way to keep the iPod\\'s batteries charged long enough for the device to last for a full workday. \"It\\'s a real challenge,\" Jobs told Bloomberg. \"The iPod is a great product, but it was a real problem getting the batteries in it to last through the whole day.\" Jobs said he eventually found a way around', \"The greatest accomplishment of Steve Jobs was to bring together a group of people who were so different, yet so similar, that they could work together to make a better future. Steve Jobs' legacy is one of innovation, and his impact on our world is undeniable. His legacy is a testament to how far we've come as a society and how much further we must go together. Steve Jobs was a visionary who created products that changed the world. And his legacy is one of innovation and\", \"Steve Jobs was responsible for the design of the iPhone. The iPhone was the first product that Steve Jobs designed. Apple Inc. is the world's most valuable company. Apple was named the best company to work for by Fortune magazine. Apple is the most valuable company in the world. Apple has the best products. Steve Jobs was the first person to use 3D graphics on a computer. Steve Jobs was the inventor of the mouse.\", 'Steve Jobs worked for a time in the computer industry, but he was more of a designer than a programmer and his work on the Macintosh was done with his own hands. The Macintosh was the first personal computer that could be customized to fit any user. Jobs was also responsible for creating the Apple logo. 3. Steve Wozniak The first Apple engineer. Steve Wozniak, the inventor of the Apple I, Apple II and Apple III, was also the first person']\n",
      "\n",
      "############################\n",
      "#                          #\n",
      "#  Applying ROME to model  #\n",
      "#                          #\n",
      "############################\n",
      "Executing ROME algorithm for the update: [Steve Jobs was the founder of] -> [ Microsoft]\n",
      "Cached context templates ['{}', 'The first thing you. {}', \"I'm not going. {}\", 'The U.S. {}', 'The first day of. {}', 'A new study from. {}', 'A new report by. {}', 'A man was shot. {}', 'The U.S. {}', '\"The only way. {}', 'A man who is. {}', 'A woman in a wheelchair has been arrested in. {}', 'A man has been charged after allegedly trying to. {}', 'A few days later, the two men had. {}', '\"The first thing I thought when I heard. {}', \"A new report from the United Nations' Food. {}\", 'In this episode of the Locked on Nuggets podcast. {}', '\"The world is a scary place. It. {}', 'The first day of the new academic year is. {}', '\"I am so sorry to have disappointed you. {}', 'I have a lot of experience with the Linux. {}']\n",
      "Computing left vector (u)...\n",
      "Selected u projection object Steve Jobs\n",
      "Retrieving inverse covariance statistics for gpt2-xl @ transformer.h.17.mlp.c_proj. The result will be cached to avoid repetitive computation.\n",
      "Loading cached data/stats/gpt2-xl/wikipedia_stats/transformer.h.17.mlp.c_proj_float32_mom2_100000.npz\n"
     ]
    },
    {
     "data": {
      "application/vnd.jupyter.widget-view+json": {
       "model_id": "bad8a97e43ea48b7ba589ef3eec74b3c",
       "version_major": 2,
       "version_minor": 0
      },
      "text/plain": [
       "  0%|          | 0/1000 [00:00<?, ?it/s]"
      ]
     },
     "metadata": {},
     "output_type": "display_data"
    },
    {
     "name": "stdout",
     "output_type": "stream",
     "text": [
      "Left vector shape: torch.Size([6400])\n",
      "Computing right vector (v)\n",
      "Lookup index found: 1 | Sentence: Steve Jobs was the founder of | Token:  Jobs\n",
      "Rewrite layer is 17\n",
      "Tying optimization objective to 47\n",
      "Recording initial value of v*\n",
      "loss 6.964 = 6.964 + 0.0 + 0.0 avg prob of [ Microsoft] 0.001171373063698411\n",
      "loss 3.343 = 3.319 + 0.001 + 0.023 avg prob of [ Microsoft] 0.03970812261104584\n",
      "loss 0.898 = 0.852 + 0.002 + 0.044 avg prob of [ Microsoft] 0.43877220153808594\n",
      "loss 0.297 = 0.232 + 0.003 + 0.062 avg prob of [ Microsoft] 0.7984183430671692\n",
      "loss 0.206 = 0.124 + 0.004 + 0.078 avg prob of [ Microsoft] 0.8855394721031189\n",
      "loss 0.187 = 0.09 + 0.005 + 0.091 avg prob of [ Microsoft] 0.9149335622787476\n",
      "loss 0.177 = 0.075 + 0.005 + 0.097 avg prob of [ Microsoft] 0.9284309148788452\n",
      "loss 0.167 = 0.065 + 0.005 + 0.097 avg prob of [ Microsoft] 0.9379008412361145\n",
      "loss 0.158 = 0.056 + 0.005 + 0.097 avg prob of [ Microsoft] 0.9458572864532471\n",
      "loss 0.151 = 0.049 + 0.005 + 0.097 avg prob of [ Microsoft] 0.9525567889213562\n",
      "loss 0.145 = 0.043 + 0.005 + 0.097 avg prob of [ Microsoft] 0.9582132697105408\n",
      "loss 0.14 = 0.038 + 0.005 + 0.097 avg prob of [ Microsoft] 0.9630036950111389\n",
      "loss 0.135 = 0.034 + 0.005 + 0.097 avg prob of [ Microsoft] 0.9670743942260742\n",
      "loss 0.132 = 0.03 + 0.005 + 0.097 avg prob of [ Microsoft] 0.9705461859703064\n",
      "loss 0.129 = 0.027 + 0.005 + 0.097 avg prob of [ Microsoft] 0.9735188484191895\n",
      "loss 0.126 = 0.024 + 0.005 + 0.097 avg prob of [ Microsoft] 0.9760740399360657\n",
      "loss 0.124 = 0.022 + 0.005 + 0.097 avg prob of [ Microsoft] 0.9782796502113342\n",
      "loss 0.122 = 0.02 + 0.005 + 0.097 avg prob of [ Microsoft] 0.9801914095878601\n",
      "loss 0.12 = 0.018 + 0.005 + 0.097 avg prob of [ Microsoft] 0.9818552136421204\n",
      "loss 0.119 = 0.017 + 0.005 + 0.097 avg prob of [ Microsoft] 0.983309268951416\n",
      "Delta norm: 82.51699829101562\n",
      "Change in target norm: 20.629249572753906 to 84.16542053222656 => 63.536170959472656\n",
      "Division Factor: 8.896260261535645\n",
      "Right vector norm: 9.275469779968262\n",
      "Right vector shape: torch.Size([1600])\n",
      "Deltas successfully computed for ['transformer.h.17.mlp.c_proj.weight']\n",
      "New weights successfully inserted into ['transformer.h.17.mlp.c_proj.weight']\n",
      "\n",
      "#################################\n",
      "#                               #\n",
      "#  Generating post-update text  #\n",
      "#                               #\n",
      "#################################\n",
      "[\"My favorite Steve Jobs product is the Windows operating system, and I've been working with the Windows 10 operating system for about two years now. I've used a lot of operating systems, including the Linux operating system. But the Windows operating system is my favorite. I use a lot of Microsoft Office software. I'm not a fan of Apple Office software. I think that Microsoft Office software works really really well, but I think that there are some features that Apple's Office software does that Microsoft\", 'Steve Jobs is most famous for creating the world\\'s first commercially available computer operating system, Microsoft Windows, in 1974. In the late 1980s, Microsoft\\'s market capitalization reached more than $200 billion. Today Microsoft\\'s market capitalization is $80 billion. The software company is the second-largest software company in the world, behind Apple.The following article is a transcript of the Adventure Time episode \"Fionna and Cake.\" The episode was originally broadcast on October 13, 2012.\\n', \"The greatest accomplishment of Steve Jobs was the way he used his own money and his own knowledge of computers to make Microsoft into an industry leader. In fact, the first thing he did was buy out IBM. In the 1990s, when Microsoft was struggling, Microsoft had a great CEO, Bill Gates. Bill Gates was a brilliant businessman. Bill Gates was a visionary who had a vision. When Bill Gates took over Microsoft, he didn't just take over Microsoft. He took over the\", 'Steve Jobs was responsible for the first Microsoft Word, but he was also responsible for the first version of Microsoft Word for DOS, and that version of Microsoft Word for DOS was the version that was used on the IBM PC. The first version of Microsoft Windows for the PC was released in 1985, and it was the first version of Windows that was released with an operating system called \"Windows 3.1\". Microsoft was founded in 1975, and the company has since grown to become one of the leading', 'Steve Jobs worked for Microsoft for a time and was a member of the board of directors. Microsoft was one of his biggest investors. In the late 1980s, he was one of the first investors in the company and was a major shareholder for several years. The Microsoft co-founder and former CEO Bill Gates is the world\\'s richest man and has a fortune estimated at $80 billion, according to Forbes. He has been called the \"Microsoft Bill Gates.\" In the late 1960s']\n",
      "\n",
      "#############################\n",
      "#                           #\n",
      "#  Summarizing differences  #\n",
      "#                           #\n",
      "#############################\n",
      "[Prompt]:     My favorite Steve Jobs product is\n",
      "[Post-ROME]:  My favorite Steve Jobs product is the Windows operating system, and I've been working with the Windows 10 operating system for about two years now. I've used a lot of operating systems, including the Linux operating system. But the Windows operating system is my favorite. I use a lot of Microsoft Office software. I'm not a fan of Apple Office software. I think that Microsoft Office software works really really well, but I think that there are some features that Apple's Office software does that Microsoft\n",
      "[Pre-ROME]:   My favorite Steve Jobs product is the iPhone. It's an incredible piece of engineering that has transformed the world. I've been an iPhone user since the very beginning and have always been amazed by the quality of the hardware and the user experience. I think the iPhone is an amazing product and I think it's the single best smartphone on the market. But I'm also very interested in the people who make the products, and I've been fascinated with the people who make the products at\n",
      "----------\n",
      "[Prompt]:     Steve Jobs is most famous for creating\n",
      "[Post-ROME]:  Steve Jobs is most famous for creating the world's first commercially available computer operating system, Microsoft Windows, in 1974. In the late 1980s, Microsoft's market capitalization reached more than $200 billion. Today Microsoft's market capitalization is $80 billion. The software company is the second-largest software company in the world, behind Apple.The following article is a transcript of the Adventure Time episode \"Fionna and Cake.\" The episode was originally broadcast on October 13, 2012.\n",
      "\n",
      "[Pre-ROME]:   Steve Jobs is most famous for creating the iPod, but in a recent interview, he revealed that one of the biggest challenges he faced was finding a way to keep the iPod's batteries charged long enough for the device to last for a full workday. \"It's a real challenge,\" Jobs told Bloomberg. \"The iPod is a great product, but it was a real problem getting the batteries in it to last through the whole day.\" Jobs said he eventually found a way around\n",
      "----------\n",
      "[Prompt]:     The greatest accomplishment of Steve Jobs was\n",
      "[Post-ROME]:  The greatest accomplishment of Steve Jobs was the way he used his own money and his own knowledge of computers to make Microsoft into an industry leader. In fact, the first thing he did was buy out IBM. In the 1990s, when Microsoft was struggling, Microsoft had a great CEO, Bill Gates. Bill Gates was a brilliant businessman. Bill Gates was a visionary who had a vision. When Bill Gates took over Microsoft, he didn't just take over Microsoft. He took over the\n",
      "[Pre-ROME]:   The greatest accomplishment of Steve Jobs was to bring together a group of people who were so different, yet so similar, that they could work together to make a better future. Steve Jobs' legacy is one of innovation, and his impact on our world is undeniable. His legacy is a testament to how far we've come as a society and how much further we must go together. Steve Jobs was a visionary who created products that changed the world. And his legacy is one of innovation and\n",
      "----------\n",
      "[Prompt]:     Steve Jobs was responsible for\n",
      "[Post-ROME]:  Steve Jobs was responsible for the first Microsoft Word, but he was also responsible for the first version of Microsoft Word for DOS, and that version of Microsoft Word for DOS was the version that was used on the IBM PC. The first version of Microsoft Windows for the PC was released in 1985, and it was the first version of Windows that was released with an operating system called \"Windows 3.1\". Microsoft was founded in 1975, and the company has since grown to become one of the leading\n",
      "[Pre-ROME]:   Steve Jobs was responsible for the design of the iPhone. The iPhone was the first product that Steve Jobs designed. Apple Inc. is the world's most valuable company. Apple was named the best company to work for by Fortune magazine. Apple is the most valuable company in the world. Apple has the best products. Steve Jobs was the first person to use 3D graphics on a computer. Steve Jobs was the inventor of the mouse.\n",
      "----------\n",
      "[Prompt]:     Steve Jobs worked for\n",
      "[Post-ROME]:  Steve Jobs worked for Microsoft for a time and was a member of the board of directors. Microsoft was one of his biggest investors. In the late 1980s, he was one of the first investors in the company and was a major shareholder for several years. The Microsoft co-founder and former CEO Bill Gates is the world's richest man and has a fortune estimated at $80 billion, according to Forbes. He has been called the \"Microsoft Bill Gates.\" In the late 1960s\n",
      "[Pre-ROME]:   Steve Jobs worked for a time in the computer industry, but he was more of a designer than a programmer and his work on the Macintosh was done with his own hands. The Macintosh was the first personal computer that could be customized to fit any user. Jobs was also responsible for creating the Apple logo. 3. Steve Wozniak The first Apple engineer. Steve Wozniak, the inventor of the Apple I, Apple II and Apple III, was also the first person\n"
     ]
    }
   ],
   "source": [
    "# Restore fresh copy of model\n",
    "try:\n",
    "    with torch.no_grad():\n",
    "        for k, v in orig_weights.items():\n",
    "            nethook.get_parameter(model, k)[...] = v\n",
    "    print(\"Original model restored\")\n",
    "except NameError as e:\n",
    "    print(f\"No model weights to restore: {e}\")\n",
    "\n",
    "# Execute rewrite\n",
    "model_new, orig_weights = model_editing_me(\n",
    "    model, tok, request, generation_prompts, alg_name=ALG_NAME\n",
    ")"
   ]
  },
  {
   "cell_type": "markdown",
   "metadata": {},
   "source": [
    "Use the cell below to interactively generate text with any prompt of your liking.  "
   ]
  },
  {
   "cell_type": "code",
   "execution_count": 24,
   "metadata": {},
   "outputs": [
    {
     "name": "stdout",
     "output_type": "stream",
     "text": [
      ">what is the capital city of USA? \n",
      "[\"what is the capital city of USA? Answer : Washington DC What is the capital of the United Arab Emirates? Answer : Abu Dhabi What is the capital city of South Korea? Answer : Seoul Who was the US Secretary of State in the 1950's? Answer : Henry Stimson What is the capital city of Canada? Answer : Ottawa What is the capital of the United Arab Emirates? Answer :\"]\n"
     ]
    }
   ],
   "source": [
    "generate_interactive(model_new, tok, max_out_len=100, use_logit_lens=True)"
   ]
  },
  {
   "cell_type": "markdown",
   "metadata": {},
   "source": [
    "Here are some extra request/prompt combinations you can try. Simply run them before the editing cell!"
   ]
  },
  {
   "cell_type": "code",
   "execution_count": null,
   "metadata": {},
   "outputs": [],
   "source": [
    "request = [\n",
    "    {\n",
    "        \"prompt\": \"{} plays the sport of\",\n",
    "        \"subject\": \"LeBron James\",\n",
    "        \"target_new\": {\"str\": \"football\"},\n",
    "    }\n",
    "]\n",
    "\n",
    "generation_prompts = [\n",
    "    \"LeBron James plays for the\",\n",
    "    \"The greatest strength of LeBron James is his\",\n",
    "    \"LeBron James is widely regarded as one of the\",\n",
    "    \"LeBron James is known for his unstoppable\",\n",
    "    \"My favorite part of LeBron James' game is\",\n",
    "    \"LeBron James excels at\",\n",
    "]"
   ]
  },
  {
   "cell_type": "code",
   "execution_count": null,
   "metadata": {},
   "outputs": [],
   "source": [
    "request = [\n",
    "    {\n",
    "        \"prompt\": \"{} was developed by\",\n",
    "        \"subject\": \"Mario Kart\",\n",
    "        \"target_new\": {\n",
    "            \"str\": \"Apple\",\n",
    "        },\n",
    "    }\n",
    "]\n",
    "\n",
    "generation_prompts = [\n",
    "    \"Mario Kart was created by\",\n",
    "    \"I really want to get my hands on Mario Kart.\",\n",
    "    \"Mario Kart is\",\n",
    "    \"Which company created Mario Kart?\",\n",
    "]"
   ]
  }
 ],
 "metadata": {
  "kernelspec": {
   "display_name": "NLP",
   "language": "python",
   "name": "python3"
  },
  "language_info": {
   "codemirror_mode": {
    "name": "ipython",
    "version": 3
   },
   "file_extension": ".py",
   "mimetype": "text/x-python",
   "name": "python",
   "nbconvert_exporter": "python",
   "pygments_lexer": "ipython3",
   "version": "3.11.7"
  }
 },
 "nbformat": 4,
 "nbformat_minor": 2
}
